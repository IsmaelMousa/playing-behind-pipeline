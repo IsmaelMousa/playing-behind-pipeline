{
 "cells": [
  {
   "cell_type": "markdown",
   "metadata": {},
   "source": [
    "## Using HF transformers models by using the `tokenize`, `convert_tokens_to_ids`, `pad_token`, `attention_mask`, `ids to tensors (ids to input_ids)`, `softmax`."
   ]
  },
  {
   "cell_type": "markdown",
   "metadata": {},
   "source": [
    "#### Here is an example with `sentiment-analysis` task."
   ]
  },
  {
   "cell_type": "code",
   "execution_count": 22,
   "metadata": {
    "colab": {
     "base_uri": "https://localhost:8080/"
    },
    "id": "t-1IjLzGLnpq",
    "outputId": "0d4d9084-a749-461c-bfae-4fa583490fd7"
   },
   "outputs": [
    {
     "name": "stdout",
     "output_type": "stream",
     "text": [
      "tensor([[0.9912, 0.0088],\n",
      "        [0.9987, 0.0013]], grad_fn=<SoftmaxBackward0>)\n",
      "{0: 'NEGATIVE', 1: 'POSITIVE'}\n"
     ]
    }
   ],
   "source": [
    "from transformers import AutoTokenizer, AutoModelForSequenceClassification\n",
    "import torch\n",
    "\n",
    "checkpoint = \"distilbert-base-uncased-finetuned-sst-2-english\"\n",
    "sequences = [\"Hello!, How you doing my friend?\",\n",
    "            \"I hate this!!!\"]\n",
    "\n",
    "tokenizer = AutoTokenizer.from_pretrained(checkpoint)\n",
    "model = AutoModelForSequenceClassification.from_pretrained(checkpoint)\n",
    "\n",
    "tokens = [tokenizer.tokenize(sequence) for sequence in sequences]\n",
    "ids = [tokenizer.convert_tokens_to_ids(token) for token in tokens]\n",
    "\n",
    "ids1 = ids[0]\n",
    "ids2 = ids[1]\n",
    "# ids1 length is the greatest one\n",
    "for _ in range(len(ids1) - len(ids2)):\n",
    "  ids2.append(tokenizer.pad_token_id)\n",
    "\n",
    "input_ids = torch.tensor(ids)\n",
    "\n",
    "attention_mask1 = [1 if i != 0 else 0 for i in ids1]\n",
    "attention_mask2 = [1 if i != 0 else 0 for i in ids2]\n",
    "\n",
    "attention_mask = torch.tensor([attention_mask1, attention_mask2])\n",
    "\n",
    "model_inputs = {\"input_ids\": input_ids, \"attention_mask\": attention_mask}\n",
    "model_outputs = model(**model_inputs)\n",
    "\n",
    "predictions = torch.nn.functional.softmax(model_outputs.logits, dim=-1)\n",
    "\n",
    "# Note here is a diffrent predictions because here we didn't add the special tokens so the results will be diffrent from the previous code.\n",
    "print(predictions)\n",
    "print(model.config.id2label)"
   ]
  }
 ],
 "metadata": {
  "colab": {
   "provenance": []
  },
  "kernelspec": {
   "display_name": "Python 3 (ipykernel)",
   "language": "python",
   "name": "python3"
  },
  "language_info": {
   "codemirror_mode": {
    "name": "ipython",
    "version": 3
   },
   "file_extension": ".py",
   "mimetype": "text/x-python",
   "name": "python",
   "nbconvert_exporter": "python",
   "pygments_lexer": "ipython3",
   "version": "3.10.12"
  }
 },
 "nbformat": 4,
 "nbformat_minor": 4
}
