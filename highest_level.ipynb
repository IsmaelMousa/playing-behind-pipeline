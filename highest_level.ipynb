{
 "cells": [
  {
   "cell_type": "markdown",
   "metadata": {},
   "source": [
    "## Using HF transformers models by using the `pipeline` (high level)."
   ]
  },
  {
   "cell_type": "markdown",
   "metadata": {},
   "source": [
    "#### For `sentiment-analysis` task (classification)"
   ]
  },
  {
   "cell_type": "code",
   "execution_count": null,
   "metadata": {
    "colab": {
     "base_uri": "https://localhost:8080/"
    },
    "id": "t-1IjLzGLnpq",
    "outputId": "42c47ff1-7f37-40b7-8deb-7169aea77936"
   },
   "outputs": [],
   "source": [
    "from transformers import pipeline\n",
    "\n",
    "task = \"sentiment-analysis\"\n",
    "checkpoint = \"distilbert/distilbert-base-uncased-finetuned-sst-2-english\"\n",
    "\n",
    "classifier = pipeline(task=task, model=checkpoint)\n",
    "\n",
    "text = \"I like me better when I with me!\"\n",
    "\n",
    "classifier(text)"
   ]
  },
  {
   "cell_type": "markdown",
   "metadata": {},
   "source": [
    "#### For `translation` task (from english to french)"
   ]
  },
  {
   "cell_type": "code",
   "execution_count": null,
   "metadata": {
    "colab": {
     "base_uri": "https://localhost:8080/"
    },
    "id": "Tq8DTl4BL5Yh",
    "outputId": "c372bb14-ea7b-4882-a849-e5a10ba56ff7"
   },
   "outputs": [],
   "source": [
    "from transformers import pipeline\n",
    "\n",
    "task = \"translation_en_to_fr\"\n",
    "checkpoint = \"google-t5/t5-small\"\n",
    "\n",
    "classifier = pipeline(task=task, model=checkpoint)\n",
    "\n",
    "text = \"I like me better when I with me!\"\n",
    "\n",
    "classifier(text)"
   ]
  },
  {
   "cell_type": "markdown",
   "metadata": {},
   "source": [
    "#### For `zero-shot-classification` task"
   ]
  },
  {
   "cell_type": "code",
   "execution_count": null,
   "metadata": {
    "colab": {
     "base_uri": "https://localhost:8080/"
    },
    "id": "AUtNb3LTMvjG",
    "outputId": "264bdd54-934b-4d96-b586-10886bccca34"
   },
   "outputs": [],
   "source": [
    "from transformers import pipeline\n",
    "\n",
    "task = \"zero-shot-classification\"\n",
    "checkpoint = \"MoritzLaurer/DeBERTa-v3-base-mnli-fever-anli\"\n",
    "\n",
    "classifier = pipeline(task=task, model=checkpoint)\n",
    "\n",
    "candidate_labels = [\"love\", \"hate\", \"like\", \"wonder\"]\n",
    "text = \"I like the Hugging Face community, where the magic is be.\"\n",
    "\n",
    "classifier(text, candidate_labels)"
   ]
  },
  {
   "cell_type": "markdown",
   "metadata": {},
   "source": [
    "#### For `text-generation` task"
   ]
  },
  {
   "cell_type": "code",
   "execution_count": null,
   "metadata": {
    "colab": {
     "base_uri": "https://localhost:8080/"
    },
    "id": "SJEgCME8Qe5H",
    "outputId": "3c1d6eac-d2a4-424e-a2c9-aa1e019bb0ba"
   },
   "outputs": [],
   "source": [
    "from transformers import pipeline\n",
    "\n",
    "task = \"text-generation\"\n",
    "checkpoint = \"openai-community/gpt2\"\n",
    "\n",
    "classifier = pipeline(task=task, model=checkpoint)\n",
    "\n",
    "text = \"I like me better when I with me\"\n",
    "\n",
    "classifier(text)"
   ]
  },
  {
   "cell_type": "markdown",
   "metadata": {},
   "source": [
    "#### For `summarization` task"
   ]
  },
  {
   "cell_type": "code",
   "execution_count": null,
   "metadata": {
    "colab": {
     "base_uri": "https://localhost:8080/"
    },
    "id": "HjqQT6mYQkAx",
    "outputId": "986fd0ec-ea31-4a1f-8d71-6c31ad182265"
   },
   "outputs": [],
   "source": [
    "from transformers import pipeline\n",
    "\n",
    "task = \"summarization\"\n",
    "checkpoint = \"Falconsai/medical_summarization\"\n",
    "\n",
    "classifier = pipeline(task=task, model=checkpoint)\n",
    "\n",
    "text = \"\"\"the need for magnetic resonance imaging ( mri )\n",
    " in patients with an implanted pacemaker or implantable cardioverter\n",
    " - defibrillator ( icd ) is a growing clinical issue . it is estimated\n",
    " that as many as 75% of active cardiac device recipients will become indicated for mri.\n",
    " currently , the vast majority of such devices are contraindicated for use with an mri.\n",
    " in european heart rhythm association survey , published recently for non - mri - certified icds ( 0.51.5 t field strength ) ,\n",
    " the totally subcutaneous icd ( s - icd ) system , an implantable defibrillator with no leads that touch the heart ,\n",
    " has recently been demonstrated to be a safe and effective defibrillator option for patients at risk for sudden cardiac death.\n",
    " it provides shock therapy and post - shock pacing therapy , but no long - term bradycardia pacing.\"\"\"\n",
    "\n",
    "classifier(text)"
   ]
  },
  {
   "cell_type": "markdown",
   "metadata": {},
   "source": [
    "#### For `fill-mask` task"
   ]
  },
  {
   "cell_type": "code",
   "execution_count": null,
   "metadata": {
    "colab": {
     "base_uri": "https://localhost:8080/"
    },
    "id": "NAPeIhHMRB8L",
    "outputId": "7fe3e092-878e-4bdf-8d90-8d22dbc3b8c0"
   },
   "outputs": [],
   "source": [
    "from transformers import pipeline\n",
    "\n",
    "task = \"fill-mask\"\n",
    "checkpoint = \"google-bert/bert-base-cased\"\n",
    "\n",
    "classifier = pipeline(task=task, model=checkpoint)\n",
    "\n",
    "text = \"I like me [MASK] when I with me!\"\n",
    "\n",
    "classifier(text)"
   ]
  },
  {
   "cell_type": "markdown",
   "metadata": {},
   "source": [
    "#### There is also more NLP tasks..."
   ]
  }
 ],
 "metadata": {
  "colab": {
   "provenance": []
  },
  "kernelspec": {
   "display_name": "Python 3 (ipykernel)",
   "language": "python",
   "name": "python3"
  },
  "language_info": {
   "codemirror_mode": {
    "name": "ipython",
    "version": 3
   },
   "file_extension": ".py",
   "mimetype": "text/x-python",
   "name": "python",
   "nbconvert_exporter": "python",
   "pygments_lexer": "ipython3",
   "version": "3.10.12"
  }
 },
 "nbformat": 4,
 "nbformat_minor": 4
}
